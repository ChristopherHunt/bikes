{
  "nbformat": 4,
  "nbformat_minor": 0,
  "metadata": {
    "kernelspec": {
      "display_name": "Python 3",
      "language": "python",
      "name": "python3"
    },
    "language_info": {
      "codemirror_mode": {
        "name": "ipython",
        "version": 3
      },
      "file_extension": ".py",
      "mimetype": "text/x-python",
      "name": "python",
      "nbconvert_exporter": "python",
      "pygments_lexer": "ipython3",
      "version": "3.6.0"
    },
    "colab": {
      "name": "recumbent_plotter_demo.ipynb",
      "provenance": [],
      "toc_visible": true
    }
  },
  "cells": [
    {
      "cell_type": "markdown",
      "metadata": {
        "id": "YqLpDS0S--F1",
        "colab_type": "text"
      },
      "source": [
        "# Bike Plotter\n",
        "\n",
        "The purpose of this application is to allow the user to investigate how a bicycle design looks and handles using the Patterson Control Model. This interface allows you to specify each of the bicycle component's values as shown below, as well as list multiple riders to test the bike with. Finally, the user can input a target handling curve, which is the curve that they are using as a datum to work towards. All of this is aggregated together when the model is run at the bottom of this form, and two plots are output. The first plot shows the bicycle design with each rider superimposed on it, and the second plot shows the control sensitivity values that were computed for each rider on the bicycle. The resulting output will be saved as an HTML file to the filename you specified.\n",
        "\n",
        "## Steps to using this bike plotter:\n",
        "1. Specify the bicycle's component parameters.\n",
        "2. Specify each rider(s) parameters.\n",
        "3. Specify the target control sensitivity curve values (1 per km/hr).\n",
        "4. Run the plotter."
      ]
    },
    {
      "cell_type": "markdown",
      "metadata": {
        "id": "fihOvM6y--F2",
        "colab_type": "text"
      },
      "source": [
        "## Specify the Bicycle Config Parameters\n",
        "The bicycle parameter set is outlined in the figure and table below. Choose a single value for each of these parameters and fill out the bicycle parameters file below.\n",
        "\n",
        "<img src=\"https://github.com/ChristopherHunt/bikes/blob/master/src/notebooks/demos/img/bicycle_params.png?raw=1\" alt=\"Drawing\" align=left style=\"width: 650px;\"/>\n",
        "<img src=\"https://github.com/ChristopherHunt/bikes/blob/master/src/notebooks/demos/img/bicycle_params_table.png?raw=1\" alt=\"Drawing\" align=left style=\"width: 300px;\"/>"
      ]
    },
    {
      "cell_type": "code",
      "metadata": {
        "id": "WarQnEo1_LxC",
        "colab_type": "code",
        "colab": {}
      },
      "source": [
        "!mkdir temp"
      ],
      "execution_count": 0,
      "outputs": []
    },
    {
      "cell_type": "code",
      "metadata": {
        "id": "GemSNBE0_NES",
        "colab_type": "code",
        "colab": {
          "base_uri": "https://localhost:8080/",
          "height": 34
        },
        "outputId": "0485abe7-6978-4005-c91f-8e228ba661d0"
      },
      "source": [
        "!git clone https://github.com/ChristopherHunt/bikes.git"
      ],
      "execution_count": 51,
      "outputs": [
        {
          "output_type": "stream",
          "text": [
            "fatal: destination path 'bikes' already exists and is not an empty directory.\n"
          ],
          "name": "stdout"
        }
      ]
    },
    {
      "cell_type": "code",
      "metadata": {
        "id": "lV99oT3x--F3",
        "colab_type": "code",
        "colab": {
          "base_uri": "https://localhost:8080/",
          "height": 34
        },
        "outputId": "a5e511dc-15de-4a27-c70f-43253e18a8fb"
      },
      "source": [
        "%%writefile temp/bike_params.txt\n",
        "\n",
        "# Bike Parameters\n",
        "wheelbase           = 1.15      # [m]\n",
        "hip_angle           = 110       # [degrees]\n",
        "headtube_angle      = 12        # [degrees]\n",
        "crank_radius        = 0.175     # [m]\n",
        "crank_x_offset      = 0.2       # [m]\n",
        "crank_z_offset      = 0.6       # [m]\n",
        "fork_offset         = -0.075    # [m]\n",
        "seat_height         = 0.325     # [m]\n",
        "handlebar_radius    = 0.2       # [m]\n",
        "front_wheel_radius  = 0.28      # [m]\n",
        "rear_wheel_radius   = 0.28      # [m]\n",
        "frame_mass          = 10        # [kg]\n",
        "crank_mass          = 1         # [kg]\n",
        "front_wheel_mass    = 2         # [kg]\n",
        "rear_wheel_mass     = 2         # [kg]"
      ],
      "execution_count": 52,
      "outputs": [
        {
          "output_type": "stream",
          "text": [
            "Overwriting temp/bike_params.txt\n"
          ],
          "name": "stdout"
        }
      ]
    },
    {
      "cell_type": "markdown",
      "metadata": {
        "id": "AOBpKEDS--F9",
        "colab_type": "text"
      },
      "source": [
        "## Specify the Rider Config Parameters\n",
        "\n",
        "The riders configuration file is similar to that of the bicycle configuration file in that each parameter can only have a single value. However, since a bicycle design can fit multiple riders, this configuration file allows you to specify parameters for multiple people (the below file shows 2 riders as an example). As such, each rider is designated by one of the parameter paragraphs shown below. To add a new rider, copy/paste one of the paragraphs and change the new one's values. To remove a rider, just remove a paragraph. Rider's are modeled as simple geometric shapes as shown below.\n",
        "\n",
        "<img src=\"https://github.com/ChristopherHunt/bikes/blob/master/src/notebooks/demos/img/rider_params.png?raw=1\" alt=\"Drawing\" align=left style=\"width: 550px;\"/>\n",
        "<img src=\"https://github.com/ChristopherHunt/bikes/blob/master/src/notebooks/demos/img/rider_params_table.png?raw=1\" alt=\"Drawing\" align=left style=\"width: 350px;\"/>"
      ]
    },
    {
      "cell_type": "code",
      "metadata": {
        "id": "t6V09QVv--F9",
        "colab_type": "code",
        "colab": {
          "base_uri": "https://localhost:8080/",
          "height": 34
        },
        "outputId": "f06f1964-02b0-4b9f-ccbd-1d95c1c54ab9"
      },
      "source": [
        "%%writefile temp/rider_params.txt\n",
        "\n",
        "# Rider Parameters for Chris\n",
        "rider_name    = Chris\n",
        "rider_mass    = 60      # [kg]\n",
        "head_diameter = 0.185   # [m]\n",
        "torso_length  = 0.48    # [m]\n",
        "torso_depth   = 0.15    # [m]\n",
        "torso_width   = 0.2     # [m]\n",
        "arm_length    = 0.5     # [m]\n",
        "arm_diameter  = 0.08    # [m]\n",
        "leg_length    = 1.0     # [m]\n",
        "leg_diameter  = 0.12    # [m]"
      ],
      "execution_count": 53,
      "outputs": [
        {
          "output_type": "stream",
          "text": [
            "Overwriting temp/rider_params.txt\n"
          ],
          "name": "stdout"
        }
      ]
    },
    {
      "cell_type": "markdown",
      "metadata": {
        "id": "Fxbonyq_--GB",
        "colab_type": "text"
      },
      "source": [
        "## Specify the Target Control Sensitivity Curve\n",
        "\n",
        "This section specify the control sensitivity curve values that are to be used a the datum to comparse each of the above rider's computed sensitivity curves against. This file is expected to have a single decimal value per line, with that value representing the bicycle's control sensitivity value at speeds that are incrementing by 1 km/hr. Additionally, comments are allowed as their own line and inline. See the below file as an example."
      ]
    },
    {
      "cell_type": "code",
      "metadata": {
        "id": "k2brySKV--GC",
        "colab_type": "code",
        "colab": {
          "base_uri": "https://localhost:8080/",
          "height": 34
        },
        "outputId": "c3898387-b32b-48ed-8235-6759a55cf44c"
      },
      "source": [
        "%%writefile temp/target_control_curve.txt\n",
        "\n",
        "# Each of these sensitiity values are taken at 1 km/hr increments.\n",
        "0.0\n",
        "4.961353913140719\n",
        "8.783491987639238\n",
        "11.059098514690973\n",
        "12.038481471481022\n",
        "12.174520824222292\n",
        "11.844885660692936\n",
        "11.293425010610843\n",
        "10.658997662558214\n",
        "10.014715600945214\n",
        "9.39634620295349\n",
        "8.819491990044154\n",
        "8.289243353892989\n",
        "7.805420872565895\n",
        "7.36537004755247\n",
        "6.96542803791289\n",
        "6.601676483682216\n",
        "6.270312467601045\n",
        "5.967816557945706\n",
        "5.691014441652012\n",
        "5.437084245503551\n",
        "5.203537612933804\n",
        "4.988189536669038\n",
        "4.789124815921054\n",
        "4.604665113102831\n",
        "4.433338469293035\n",
        "4.273852003019772\n",
        "4.125067924616336\n",
        "3.985982705078064\n",
        "3.855709108329979\n",
        "3.7334607532423894\n",
        "3.618538874250537\n",
        "3.510320973552467\n",
        "3.408251090737173\n",
        "3.3118314505086133\n",
        "3.220615282476891\n",
        "3.1342006372207667\n",
        "3.052225049443635"
      ],
      "execution_count": 54,
      "outputs": [
        {
          "output_type": "stream",
          "text": [
            "Overwriting temp/target_control_curve.txt\n"
          ],
          "name": "stdout"
        }
      ]
    },
    {
      "cell_type": "markdown",
      "metadata": {
        "id": "lzc9xKoL--GF",
        "colab_type": "text"
      },
      "source": [
        "## Load the appropriate modules\n",
        "*This is just so we can run the model*"
      ]
    },
    {
      "cell_type": "code",
      "metadata": {
        "id": "EQOWqP7A--GG",
        "colab_type": "code",
        "colab": {
          "base_uri": "https://localhost:8080/",
          "height": 119
        },
        "outputId": "74cac660-1e32-4404-f22d-17672b5868e7"
      },
      "source": [
        "import os\n",
        "import sys\n",
        "module_path = os.path.abspath(os.path.join('bikes/src/python3'))\n",
        "if module_path not in sys.path:\n",
        "    sys.path.append(module_path)\n",
        "    \n",
        "%load_ext bike\n",
        "%load_ext config_parser\n",
        "%load_ext single_bike_gen"
      ],
      "execution_count": 55,
      "outputs": [
        {
          "output_type": "stream",
          "text": [
            "The bike extension is already loaded. To reload it, use:\n",
            "  %reload_ext bike\n",
            "The config_parser extension is already loaded. To reload it, use:\n",
            "  %reload_ext config_parser\n",
            "The single_bike_gen extension is already loaded. To reload it, use:\n",
            "  %reload_ext single_bike_gen\n"
          ],
          "name": "stdout"
        }
      ]
    },
    {
      "cell_type": "markdown",
      "metadata": {
        "id": "-zoCYmy4--GM",
        "colab_type": "text"
      },
      "source": [
        "## Run the Simulation"
      ]
    },
    {
      "cell_type": "code",
      "metadata": {
        "scrolled": true,
        "id": "ixlMbO9S--GN",
        "colab_type": "code",
        "colab": {
          "base_uri": "https://localhost:8080/",
          "height": 396
        },
        "outputId": "0c3c892c-a074-4a69-8b9d-eff8c78e8deb"
      },
      "source": [
        "%run -i bikes/src/python3/single_bike_gen temp/target_control_curve.txt temp/bike_params.txt temp/rider_params.txt"
      ],
      "execution_count": 57,
      "outputs": [
        {
          "output_type": "stream",
          "text": [
            "Chris's Control Sensitivity:\n",
            "[0.0, 4.9613539131407185, 8.783491987639234, 11.059098514690971, 12.038481471481022, 12.174520824222293, 11.844885660692936, 11.293425010610845, 10.658997662558217, 10.014715600945218, 9.396346202953492, 8.819491990044156, 8.28924335389299, 7.805420872565897, 7.365370047552472, 6.965428037912891, 6.601676483682219, 6.2703124676010455, 5.967816557945707, 5.691014441652013, 5.437084245503554, 5.203537612933806, 4.988189536669041, 4.789124815921055, 4.604665113102832, 4.4333384692930355, 4.273852003019773, 4.125067924616338, 3.985982705078065, 3.855709108329979, 3.73346075324239, 3.6185388742505378, 3.510320973552469, 3.4082510907371733, 3.311831450508614, 3.2206152824768925, 3.134200637220767, 3.0522250494436363]\n",
            "\n",
            "Rider data:\n",
            "{'rider_name': 'Chris', 'rider_mass': 60.0, 'head_diameter': 0.185, 'torso_length': 0.48, 'torso_depth': 0.15, 'torso_width': 0.2, 'arm_length': 0.5, 'arm_diameter': 0.08, 'leg_length': 1.0, 'leg_diameter': 0.12}\n"
          ],
          "name": "stdout"
        },
        {
          "output_type": "display_data",
          "data": {
            "image/png": "[encoded data removed]",
            "text/plain": [
              "<Figure size 1050x1400 with 2 Axes>"
            ]
          },
          "metadata": {
            "tags": [],
            "needs_background": "light"
          }
        }
      ]
    }
  ]
}