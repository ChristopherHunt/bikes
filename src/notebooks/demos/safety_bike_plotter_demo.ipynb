{
  "nbformat": 4,
  "nbformat_minor": 0,
  "metadata": {
    "kernelspec": {
      "display_name": "Python 3",
      "language": "python",
      "name": "python3"
    },
    "language_info": {
      "codemirror_mode": {
        "name": "ipython",
        "version": 3
      },
      "file_extension": ".py",
      "mimetype": "text/x-python",
      "name": "python",
      "nbconvert_exporter": "python",
      "pygments_lexer": "ipython3",
      "version": "3.6.0"
    },
    "colab": {
      "name": "safety_bike_plotter_demo.ipynb",
      "provenance": [],
      "toc_visible": true
    }
  },
  "cells": [
    {
      "cell_type": "markdown",
      "metadata": {
        "id": "JDyMGvIXFzEL",
        "colab_type": "text"
      },
      "source": [
        "# Bike Plotter\n",
        "\n",
        "The purpose of this application is to allow the user to investigate how a bicycle design looks and handles using the Patterson Control Model. This interface allows you to specify each of the bicycle component's values as shown below, as well as list multiple riders to test the bike with. Finally, the user can input a target handling curve, which is the curve that they are using as a datum to work towards. All of this is aggregated together when the model is run at the bottom of this form, and two plots are output. The first plot shows the bicycle design with each rider superimposed on it, and the second plot shows the control sensitivity values that were computed for each rider on the bicycle. The resulting output will be saved as an HTML file to the filename you specified.\n",
        "\n",
        "## Steps to using this bike plotter:\n",
        "1. Specify the bicycle's component parameters.\n",
        "2. Specify each rider(s) parameters.\n",
        "3. Specify the target control sensitivity curve values (1 per km/hr).\n",
        "4. Run the plotter."
      ]
    },
    {
      "cell_type": "markdown",
      "metadata": {
        "id": "pxADa1DmFzEP",
        "colab_type": "text"
      },
      "source": [
        "## Specify the Bicycle Config Parameters\n",
        "The bicycle parameter set is outlined in the figure and table below. Choose a single value for each of these parameters and fill out the bicycle parameters file below.\n",
        "\n",
        "<img src=\"https://github.com/ChristopherHunt/colab_test/blob/master/src/notebooks/demos/img/bicycle_params.png?raw=1\" alt=\"Drawing\" align=left style=\"width: 650px;\"/>\n",
        "<img src=\"https://github.com/ChristopherHunt/colab_test/blob/master/src/notebooks/demos/img/bicycle_params_table.png?raw=1\" alt=\"Drawing\" align=left style=\"width: 300px;\"/>"
      ]
    },
    {
      "cell_type": "code",
      "metadata": {
        "id": "MagmhhtkF09f",
        "colab_type": "code",
        "colab": {}
      },
      "source": [
        "!mkdir temp"
      ],
      "execution_count": 0,
      "outputs": []
    },
    {
      "cell_type": "code",
      "metadata": {
        "id": "8EGnGGa6FzER",
        "colab_type": "code",
        "colab": {
          "base_uri": "https://localhost:8080/",
          "height": 34
        },
        "outputId": "3ca32651-3cd7-4f7f-8d8c-e7400b753ca6"
      },
      "source": [
        "%%writefile temp/bike_params.txt\n",
        "\n",
        "# Bike Parameters\n",
        "wheelbase           = 0.94      # [m]\n",
        "hip_angle           = 150       # [degrees]\n",
        "headtube_angle      = 17        # [degrees]\n",
        "crank_radius        = 0.175     # [m]\n",
        "crank_x_offset      = -0.58     # [m]\n",
        "crank_z_offset      = 0.27      # [m]\n",
        "fork_offset         = 0.0       # [m]\n",
        "seat_height         = 1.05      # [m]\n",
        "handlebar_radius    = 0.2       # [m]\n",
        "front_wheel_radius  = 0.336     # [m] (700c + tire)\n",
        "rear_wheel_radius   = 0.336     # [m] (700c + tire)\n",
        "frame_mass          = 5         # [kg]\n",
        "crank_mass          = 1         # [kg]\n",
        "front_wheel_mass    = 2         # [kg]\n",
        "rear_wheel_mass     = 2         # [kg]"
      ],
      "execution_count": 2,
      "outputs": [
        {
          "output_type": "stream",
          "text": [
            "Writing temp/bike_params.txt\n"
          ],
          "name": "stdout"
        }
      ]
    },
    {
      "cell_type": "markdown",
      "metadata": {
        "id": "jmWpaegFFzEg",
        "colab_type": "text"
      },
      "source": [
        "## Specify the Rider Config Parameters\n",
        "\n",
        "The riders configuration file is similar to that of the bicycle configuration file in that each parameter can only have a single value. However, since a bicycle design can fit multiple riders, this configuration file allows you to specify parameters for multiple people (the below file shows 2 riders as an example). As such, each rider is designated by one of the parameter paragraphs shown below. To add a new rider, copy/paste one of the paragraphs and change the new one's values. To remove a rider, just remove a paragraph. Rider's are modeled as simple geometric shapes as shown below.\n",
        "\n",
        "<img src=\"https://github.com/ChristopherHunt/colab_test/blob/master/src/notebooks/demos/img/rider_params.png?raw=1\" alt=\"Drawing\" align=left style=\"width: 550px;\"/>\n",
        "<img src=\"https://github.com/ChristopherHunt/colab_test/blob/master/src/notebooks/demos/img/rider_params_table.png?raw=1\" alt=\"Drawing\" align=left style=\"width: 350px;\"/>"
      ]
    },
    {
      "cell_type": "code",
      "metadata": {
        "id": "1oztVp_IFzEh",
        "colab_type": "code",
        "colab": {
          "base_uri": "https://localhost:8080/",
          "height": 34
        },
        "outputId": "db19f314-f5b6-4f63-d6d1-f0a5ae19eb33"
      },
      "source": [
        "%%writefile temp/rider_params.txt\n",
        "\n",
        "# Rider Parameters for Chris\n",
        "rider_name    = Chris\n",
        "rider_mass    = 60      # [kg]\n",
        "head_diameter = 0.185   # [m]\n",
        "torso_length  = 0.48    # [m]\n",
        "torso_depth   = 0.15    # [m]\n",
        "torso_width   = 0.2     # [m]\n",
        "arm_length    = 0.5     # [m]\n",
        "arm_diameter  = 0.08    # [m]\n",
        "leg_length    = 1.0     # [m]\n",
        "leg_diameter  = 0.12    # [m]"
      ],
      "execution_count": 3,
      "outputs": [
        {
          "output_type": "stream",
          "text": [
            "Writing temp/rider_params.txt\n"
          ],
          "name": "stdout"
        }
      ]
    },
    {
      "cell_type": "markdown",
      "metadata": {
        "id": "LmL-WDU4FzEx",
        "colab_type": "text"
      },
      "source": [
        "## Specify the Target Control Sensitivity Curve\n",
        "\n",
        "This section specify the control sensitivity curve values that are to be used a the datum to comparse each of the above rider's computed sensitivity curves against. This file is expected to have a single decimal value per line, with that value representing the bicycle's control sensitivity value at speeds that are incrementing by 1 km/hr. Additionally, comments are allowed as their own line and inline. See the below file as an example."
      ]
    },
    {
      "cell_type": "code",
      "metadata": {
        "id": "R5F2sCFjFzEz",
        "colab_type": "code",
        "colab": {
          "base_uri": "https://localhost:8080/",
          "height": 34
        },
        "outputId": "3e7363c0-4586-403b-cb11-e37f0a6707bd"
      },
      "source": [
        "%%writefile temp/target_control_curve.txt\n",
        "\n",
        "# Each of these sensitiity values are taken at 1 km/hr increments.\n",
        "0.0\n",
        "4.91182755576263\n",
        "8.689145503596954\n",
        "10.929933350579264\n",
        "11.887061701213392\n",
        "12.012116549642014\n",
        "11.67965536598488\n",
        "11.130500341252748\n",
        "10.501269558427989\n",
        "9.863617909950662\n",
        "9.252432135983431\n",
        "8.682809506262718\n",
        "8.159565498236862\n",
        "7.6823824773101\n",
        "7.248546962871624\n",
        "6.854381950353588\n",
        "6.495979403303164\n",
        "6.169559316634012\n",
        "5.871630869728979\n",
        "5.599050134826332\n",
        "5.349025224945828\n",
        "5.1190962285110695\n",
        "4.907104502464843\n",
        "4.711158937302023\n",
        "4.529603016790712\n",
        "4.360984441054753\n",
        "4.204027984059518\n",
        "4.057611686525297\n",
        "3.920746205411979\n",
        "3.7925570191856104\n",
        "3.6722691503374123\n",
        "3.559194071995839\n",
        "3.452718491234011\n",
        "3.352294735462771\n",
        "3.257432503580337\n",
        "3.1676917770584287\n",
        "3.082676716427125\n",
        "3.0020303952017136"
      ],
      "execution_count": 4,
      "outputs": [
        {
          "output_type": "stream",
          "text": [
            "Writing temp/target_control_curve.txt\n"
          ],
          "name": "stdout"
        }
      ]
    },
    {
      "cell_type": "markdown",
      "metadata": {
        "id": "IzmtaZRlFzFR",
        "colab_type": "text"
      },
      "source": [
        "## Load the appropriate modules\n",
        "*This is just so we can run the model*"
      ]
    },
    {
      "cell_type": "code",
      "metadata": {
        "id": "XybhOCjaF2-0",
        "colab_type": "code",
        "colab": {
          "base_uri": "https://localhost:8080/",
          "height": 85
        },
        "outputId": "6acfedfd-d8c3-401c-dfcc-6f075a9006ec"
      },
      "source": [
        "!git clone https://github.com/ChristopherHunt/bikes.git"
      ],
      "execution_count": 5,
      "outputs": [
        {
          "output_type": "stream",
          "text": [
            "Cloning into 'bikes'...\n",
            "remote: Enumerating objects: 56, done.\u001b[K\n",
            "remote: Total 56 (delta 0), reused 0 (delta 0), pack-reused 56\u001b[K\n",
            "Unpacking objects: 100% (56/56), done.\n"
          ],
          "name": "stdout"
        }
      ]
    },
    {
      "cell_type": "code",
      "metadata": {
        "id": "6pgYj5DPFzFT",
        "colab_type": "code",
        "colab": {}
      },
      "source": [
        "import os\n",
        "import sys\n",
        "module_path = os.path.abspath(os.path.join('bikes/src/python3'))\n",
        "if module_path not in sys.path:\n",
        "    sys.path.append(module_path)\n",
        "\n",
        "%load_ext bike\n",
        "%load_ext config_parser\n",
        "%load_ext single_bike_gen"
      ],
      "execution_count": 0,
      "outputs": []
    },
    {
      "cell_type": "markdown",
      "metadata": {
        "id": "iCiRpWn1FzFX",
        "colab_type": "text"
      },
      "source": [
        "## Run the Simulation"
      ]
    },
    {
      "cell_type": "code",
      "metadata": {
        "scrolled": true,
        "id": "3hIIYf8xFzFY",
        "colab_type": "code",
        "colab": {
          "base_uri": "https://localhost:8080/",
          "height": 396
        },
        "outputId": "1bfc851a-3505-4427-aae8-3eeae65ac98a"
      },
      "source": [
        "%run -i bikes/src/python3/single_bike_gen temp/target_control_curve.txt temp/bike_params.txt temp/rider_params.txt"
      ],
      "execution_count": 7,
      "outputs": [
        {
          "output_type": "stream",
          "text": [
            "Chris's Control Sensitivity:\n",
            "[0.0, 1.5526760495699754, 2.9351935911483307, 4.0343516230564855, 4.815025340301945, 5.3036721326692104, 5.55738580024602, 5.638628056334461, 5.601769014211681, 5.488825697037297, 5.330033458784544, 5.146155949059945, 4.950973127002052, 4.753364036297865, 4.55887124500044, 4.370811303876877, 4.191038175473325, 4.0204583081707845, 3.8593741611332275, 3.707711549056966, 3.5651691631803692, 3.431316271507576, 3.305656023560219, 3.187665970131695, 3.076823516384817, 2.972621437463729, 2.8745768672217333, 2.7822360297924145, 2.6951762252108193, 2.6130060748696833, 2.53536469501213, 2.4619202404843126, 2.392368109447111, 2.326428998058645, 2.26384692591972, 2.2043873073947973, 2.1478351134576, 2.0939931485349885]\n",
            "\n",
            "Rider data:\n",
            "{'rider_name': 'Chris', 'rider_mass': 60.0, 'head_diameter': 0.185, 'torso_length': 0.48, 'torso_depth': 0.15, 'torso_width': 0.2, 'arm_length': 0.5, 'arm_diameter': 0.08, 'leg_length': 1.0, 'leg_diameter': 0.12}\n"
          ],
          "name": "stdout"
        },
        {
          "output_type": "display_data",
          "data": {
            "image/png": "[encoded data removed]",
            "text/plain": [
              "<Figure size 1050x1400 with 2 Axes>"
            ]
          },
          "metadata": {
            "tags": [],
            "needs_background": "light"
          }
        }
      ]
    }
  ]
}