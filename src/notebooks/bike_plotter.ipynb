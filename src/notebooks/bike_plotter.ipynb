{
  "nbformat": 4,
  "nbformat_minor": 0,
  "metadata": {
    "kernelspec": {
      "display_name": "Python 3",
      "language": "python",
      "name": "python3"
    },
    "language_info": {
      "codemirror_mode": {
        "name": "ipython",
        "version": 3
      },
      "file_extension": ".py",
      "mimetype": "text/x-python",
      "name": "python",
      "nbconvert_exporter": "python",
      "pygments_lexer": "ipython3",
      "version": "3.6.0"
    },
    "colab": {
      "name": "bike_plotter.ipynb",
      "provenance": [],
      "toc_visible": true
    }
  },
  "cells": [
    {
      "cell_type": "markdown",
      "metadata": {
        "id": "c9br8Z-fI9ok",
        "colab_type": "text"
      },
      "source": [
        "# Bike Plotter\n",
        "\n",
        "The purpose of this application is to allow the user to investigate how a bicycle design looks and handles using the Patterson Control Model. This interface allows you to specify each of the bicycle component's values as shown below, as well as list multiple riders to test the bike with. Finally, the user can input a target handling curve, which is the curve that they are using as a datum to work towards. All of this is aggregated together when the model is run at the bottom of this form, and two plots are output. The first plot shows the bicycle design with each rider superimposed on it, and the second plot shows the control sensitivity values that were computed for each rider on the bicycle. The resulting output will be saved as an HTML file to the filename you specified.\n",
        "\n",
        "## Steps to using this bike plotter:\n",
        "1. Specify the bicycle's component parameters.\n",
        "2. Specify each rider(s) parameters.\n",
        "3. Specify the target control sensitivity curve values (1 per km/hr).\n",
        "4. Run the plotter."
      ]
    },
    {
      "cell_type": "markdown",
      "metadata": {
        "id": "p-r-k5txI9om",
        "colab_type": "text"
      },
      "source": [
        "## Specify the Bicycle Config Parameters\n",
        "The bicycle parameter set is outlined in the figure and table below. Choose a single value for each of these parameters and fill out the bicycle parameters file below.\n",
        "\n",
        "<img src=\"https://github.com/ChristopherHunt/colab_test/blob/master/src/notebooks/img/bicycle_params.png?raw=1\" alt=\"Drawing\" align=left style=\"width: 650px;\"/>\n",
        "<img src=\"https://github.com/ChristopherHunt/colab_test/blob/master/src/notebooks/img/bicycle_params_table.png?raw=1\" alt=\"Drawing\" align=left style=\"width: 300px;\"/>"
      ]
    },
    {
      "cell_type": "code",
      "metadata": {
        "id": "AKddk1q5JCfL",
        "colab_type": "code",
        "colab": {}
      },
      "source": [
        "!mkdir temp"
      ],
      "execution_count": 0,
      "outputs": []
    },
    {
      "cell_type": "code",
      "metadata": {
        "id": "svEZqUcuI9on",
        "colab_type": "code",
        "colab": {
          "base_uri": "https://localhost:8080/",
          "height": 34
        },
        "outputId": "bccb1ca5-7d83-4172-9700-f520451d1222"
      },
      "source": [
        "%%writefile temp/bike_params.txt\n",
        "\n",
        "# Bike Parameters\n",
        "wheelbase           = 0.8       # [m]\n",
        "hip_angle           = 120       # [degrees]\n",
        "headtube_angle      = 2         # [degrees]\n",
        "crank_radius        = 0.175     # [m]\n",
        "crank_x_offset      = 0.5       # [m]\n",
        "crank_z_offset      = 0.35      # [m]\n",
        "fork_offset         = -0.075    # [m]\n",
        "seat_height         = 0.7       # [m]\n",
        "handlebar_radius    = 0.2       # [m]\n",
        "front_wheel_radius  = 0.3       # [m]\n",
        "rear_wheel_radius   = 0.1       # [m]\n",
        "frame_mass          = 10        # [kg]\n",
        "crank_mass          = 1         # [kg]\n",
        "front_wheel_mass    = 2         # [kg]\n",
        "rear_wheel_mass     = 2         # [kg]"
      ],
      "execution_count": 2,
      "outputs": [
        {
          "output_type": "stream",
          "text": [
            "Writing temp/bike_params.txt\n"
          ],
          "name": "stdout"
        }
      ]
    },
    {
      "cell_type": "markdown",
      "metadata": {
        "id": "mcFueqCOI9ot",
        "colab_type": "text"
      },
      "source": [
        "## Specify the Rider Config Parameters\n",
        "\n",
        "The riders configuration file is similar to that of the bicycle configuration file in that each parameter can only have a single value. However, since a bicycle design can fit multiple riders, this configuration file allows you to specify parameters for multiple people (the below file shows 2 riders as an example). As such, each rider is designated by one of the parameter paragraphs shown below. To add a new rider, copy/paste one of the paragraphs and change the new one's values. To remove a rider, just remove a paragraph. Rider's are modeled as simple geometric shapes as shown below.\n",
        "\n",
        "<img src=\"https://github.com/ChristopherHunt/colab_test/blob/master/src/notebooks/img/rider_params.png?raw=1\" alt=\"Drawing\" align=left style=\"width: 550px;\"/>\n",
        "<img src=\"https://github.com/ChristopherHunt/colab_test/blob/master/src/notebooks/img/rider_params_table.png?raw=1\" alt=\"Drawing\" align=left style=\"width: 350px;\"/>"
      ]
    },
    {
      "cell_type": "code",
      "metadata": {
        "id": "ea_OOis-I9ot",
        "colab_type": "code",
        "colab": {
          "base_uri": "https://localhost:8080/",
          "height": 34
        },
        "outputId": "73f162ab-0d97-4edd-a013-e09afbf50162"
      },
      "source": [
        "%%writefile temp/rider_params.txt\n",
        "\n",
        "# Rider Parameters for Chris\n",
        "rider_name    = Chris\n",
        "rider_mass    = 60      # [kg]\n",
        "head_diameter = 0.185   # [m]\n",
        "torso_length  = 0.48    # [m]\n",
        "torso_depth   = 0.11    # [m]\n",
        "torso_width   = 0.2     # [m]\n",
        "arm_length    = 0.5     # [m]\n",
        "arm_diameter  = 0.08    # [m]\n",
        "leg_length    = 1.0     # [m]\n",
        "leg_diameter  = 0.12    # [m]"
      ],
      "execution_count": 3,
      "outputs": [
        {
          "output_type": "stream",
          "text": [
            "Writing temp/rider_params.txt\n"
          ],
          "name": "stdout"
        }
      ]
    },
    {
      "cell_type": "markdown",
      "metadata": {
        "id": "bLClSKwhI9oy",
        "colab_type": "text"
      },
      "source": [
        "## Specify the Target Control Sensitivity Curve\n",
        "\n",
        "This section specify the control sensitivity curve values that are to be used a the datum to comparse each of the above rider's computed sensitivity curves against. This file is expected to have a single decimal value per line, with that value representing the bicycle's control sensitivity value at speeds that are incrementing by 1 km/hr. Additionally, comments are allowed as their own line and inline. See the below file as an example."
      ]
    },
    {
      "cell_type": "code",
      "metadata": {
        "id": "cMXri1qnI9oy",
        "colab_type": "code",
        "colab": {
          "base_uri": "https://localhost:8080/",
          "height": 34
        },
        "outputId": "2cea50fb-73ff-455f-c099-aea5ed9c110b"
      },
      "source": [
        "%%writefile temp/target_control_curve.txt\n",
        "\n",
        "# Each of these sensitiity values are taken at 1 km/hr increments.\n",
        "0.0    #  0 [km/hr]\n",
        "4.99   #  1 [km/hr]\n",
        "8.82   #  2 [km/hr]\n",
        "11.10  #  3 [km/hr]\n",
        "12.07  #  4 [km/hr]\n",
        "12.20  #  5 [km/hr]\n",
        "11.86  #  6 [km/hr]\n",
        "11.30  #  7 [km/hr]\n",
        "10.67  #  8 [km/hr]\n",
        "10.02  #  9 [km/hr]\n",
        "9.40   # 10 [km/hr]\n",
        "8.82   # 11 [km/hr]\n",
        "8.29   # 12 [km/hr]\n",
        "7.80   # 13 [km/hr]\n",
        "7.36   # 14 [km/hr]\n",
        "6.96   # 15 [km/hr]\n",
        "6.60   # 16 [km/hr]\n",
        "6.27   # 17 [km/hr]\n",
        "5.96   # 18 [km/hr]\n",
        "5.69   # 19 [km/hr]\n",
        "5.43   # 20 [km/hr]\n",
        "5.20   # 21 [km/hr]\n",
        "4.98   # 22 [km/hr]\n",
        "4.79   # 23 [km/hr]\n",
        "4.60   # 24 [km/hr]\n",
        "4.43   # 25 [km/hr]"
      ],
      "execution_count": 4,
      "outputs": [
        {
          "output_type": "stream",
          "text": [
            "Writing temp/target_control_curve.txt\n"
          ],
          "name": "stdout"
        }
      ]
    },
    {
      "cell_type": "markdown",
      "metadata": {
        "id": "lxR9ihLGI9o4",
        "colab_type": "text"
      },
      "source": [
        "## Load the appropriate modules\n",
        "*This is just so we can run the model*"
      ]
    },
    {
      "cell_type": "code",
      "metadata": {
        "id": "blz-VCCcJEKD",
        "colab_type": "code",
        "colab": {
          "base_uri": "https://localhost:8080/",
          "height": 85
        },
        "outputId": "f508112f-bf8e-485a-ed93-97da4bb7c9f6"
      },
      "source": [
        "!git clone https://github.com/ChristopherHunt/bikes.git"
      ],
      "execution_count": 5,
      "outputs": [
        {
          "output_type": "stream",
          "text": [
            "Cloning into 'bikes'...\n",
            "remote: Enumerating objects: 56, done.\u001b[K\n",
            "remote: Total 56 (delta 0), reused 0 (delta 0), pack-reused 56\u001b[K\n",
            "Unpacking objects: 100% (56/56), done.\n"
          ],
          "name": "stdout"
        }
      ]
    },
    {
      "cell_type": "code",
      "metadata": {
        "id": "5nmhbByvI9o7",
        "colab_type": "code",
        "colab": {}
      },
      "source": [
        "import os\n",
        "import sys\n",
        "module_path = os.path.abspath(os.path.join('bikes/src/python3'))\n",
        "if module_path not in sys.path:\n",
        "    sys.path.append(module_path)\n",
        "    \n",
        "%load_ext bike\n",
        "%load_ext config_parser\n",
        "%load_ext single_bike_gen"
      ],
      "execution_count": 0,
      "outputs": []
    },
    {
      "cell_type": "markdown",
      "metadata": {
        "id": "3PB_A3MDI9o_",
        "colab_type": "text"
      },
      "source": [
        "## Run the Simulation"
      ]
    },
    {
      "cell_type": "code",
      "metadata": {
        "scrolled": true,
        "id": "wlbxV2DlI9o_",
        "colab_type": "code",
        "colab": {
          "base_uri": "https://localhost:8080/",
          "height": 396
        },
        "outputId": "4f67038b-3edb-41ad-ade2-67b4ea71aeb4"
      },
      "source": [
        "%run -i bikes/src/python3/single_bike_gen temp/target_control_curve.txt temp/bike_params.txt temp/rider_params.txt"
      ],
      "execution_count": 7,
      "outputs": [
        {
          "output_type": "stream",
          "text": [
            "Chris's Control Sensitivity:\n",
            "[0.0, 5.384596314948805, 9.151507571548068, 10.978674388203153, 11.433263536865873, 11.152220301857488, 10.550163054858945, 9.845738563759639, 9.141719324882494, 8.481477665142823, 7.879920640152092, 7.338977979760833, 6.8550674893277925, 6.422611245492315, 6.03564462044928, 5.688511926952512, 5.3761289707241, 5.094044752632776, 4.8384146274280395, 4.605938878709218, 4.39379211740218, 4.199554912561821, 4.0211522414297285, 3.8568000862310194, 3.704960016926198, 3.5643009857057275]\n",
            "\n",
            "Rider data:\n",
            "{'rider_name': 'Chris', 'rider_mass': 60.0, 'head_diameter': 0.185, 'torso_length': 0.48, 'torso_depth': 0.11, 'torso_width': 0.2, 'arm_length': 0.5, 'arm_diameter': 0.08, 'leg_length': 1.0, 'leg_diameter': 0.12}\n"
          ],
          "name": "stdout"
        },
        {
          "output_type": "display_data",
          "data": {
            "image/png": "[encoded data removed]",
            "text/plain": [
              "<Figure size 1050x1400 with 2 Axes>"
            ]
          },
          "metadata": {
            "tags": [],
            "needs_background": "light"
          }
        }
      ]
    }
  ]
}